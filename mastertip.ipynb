{
  "nbformat": 4,
  "nbformat_minor": 0,
  "metadata": {
    "colab": {
      "provenance": [],
      "authorship_tag": "ABX9TyPdaCawLFy8QVpWE+4ZMqSH",
      "include_colab_link": true
    },
    "kernelspec": {
      "name": "python3",
      "display_name": "Python 3"
    },
    "language_info": {
      "name": "python"
    }
  },
  "cells": [
    {
      "cell_type": "markdown",
      "metadata": {
        "id": "view-in-github",
        "colab_type": "text"
      },
      "source": [
        "<a href=\"https://colab.research.google.com/github/jooalee64/mastertip/blob/main/mastertip.ipynb\" target=\"_parent\"><img src=\"https://colab.research.google.com/assets/colab-badge.svg\" alt=\"Open In Colab\"/></a>"
      ]
    },
    {
      "cell_type": "code",
      "execution_count": null,
      "metadata": {
        "id": "Ej-Sw8bMsBZi"
      },
      "outputs": [],
      "source": []
    },
    {
      "cell_type": "code",
      "metadata": {
        "id": "1148b9f2"
      },
      "source": [
        "import torch\n",
        "import torch.nn as nn\n",
        "import torchvision.models as models\n",
        "\n",
        "class MastTipDetectionModel(nn.Module):\n",
        "    def __init__(self, num_classes=1):\n",
        "        super(MastTipDetectionModel, self).__init__()\n",
        "        # Using a pre-trained ResNet as a backbone (example)\n",
        "        self.backbone = models.resnet50(pretrained=True)\n",
        "        # Modify the classifier for bounding box regression, mast tip prediction, and uncertainty\n",
        "        num_ftrs = self.backbone.fc.in_features\n",
        "        self.backbone.fc = nn.Identity() # Remove the original classification layer\n",
        "\n",
        "        # Add custom layers for the outputs\n",
        "        # Bounding box: 4 coordinates (x1, y1, x2, y2)\n",
        "        self.bbox_predictor = nn.Linear(num_ftrs, 4)\n",
        "        # Mast tip: 2 coordinates (x, y)\n",
        "        self.mast_tip_predictor = nn.Linear(num_ftrs, 2)\n",
        "        # Uncertainty: 1 value (scalar)\n",
        "        self.uncertainty_predictor = nn.Linear(num_ftrs, 1)\n",
        "\n",
        "    def forward(self, x):\n",
        "        # Forward pass through the backbone\n",
        "        features = self.backbone(x)\n",
        "\n",
        "        # Predict outputs\n",
        "        bbox = self.bbox_predictor(features)\n",
        "        mast_tip = self.mast_tip_predictor(features)\n",
        "        uncertainty = self.uncertainty_predictor(features)\n",
        "\n",
        "        return bbox, mast_tip, uncertainty\n",
        "\n",
        "# Example of model instantiation (without data)\n",
        "# model = MastTipDetectionModel()\n",
        "# print(model)"
      ],
      "execution_count": 3,
      "outputs": []
    },
    {
      "cell_type": "markdown",
      "metadata": {
        "id": "21b6beeb"
      },
      "source": [
        "This code defines a basic PyTorch model `MastTipDetectionModel` that uses a pre-trained ResNet50 as a backbone. It adds custom linear layers to predict:\n",
        "- `bbox`: A bounding box with 4 coordinates.\n",
        "- `mast_tip`: The mast tip coordinates with 2 values.\n",
        "- `uncertainty`: A single value representing uncertainty.\n",
        "\n",
        "The `forward` method shows how an input image `x` would be processed to produce these outputs.\n",
        "\n",
        "Remember, this is a simplified example. The actual implementation based on the paper might require a more complex architecture, custom loss functions, and specific handling of the uncertainty prediction."
      ]
    }
  ]
}